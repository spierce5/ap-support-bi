{
 "cells": [
  {
   "cell_type": "markdown",
   "id": "4dd52daa",
   "metadata": {},
   "source": [
    "# Main"
   ]
  },
  {
   "cell_type": "code",
   "execution_count": 1,
   "id": "bd056fec",
   "metadata": {},
   "outputs": [
    {
     "name": "stdout",
     "output_type": "stream",
     "text": [
      "12-29-2023 11:16:11 - INFO - Initiating data refresh process\n",
      "12-29-2023 11:16:11 - INFO - Fetching and processing case data from Salesforce\n",
      "12-29-2023 11:16:20 - INFO - Fetching and processing account temperament data from Salesforce\n",
      "12-29-2023 11:16:21 - INFO - Fetching and processing survey data from Salesforce\n",
      "12-29-2023 11:16:22 - INFO - Fetching birthday data\n",
      "12-29-2023 11:16:23 - INFO - Fetching datetime data\n",
      "12-29-2023 11:16:23 - INFO - Posting table data to Excel\n"
     ]
    }
   ],
   "source": [
    "from tinydb import TinyDB, Query\n",
    "import json\n",
    "import os\n",
    "from dotenv import load_dotenv\n",
    "import logging\n",
    "import logging.config\n",
    "import yaml\n",
    "from services.pbiservice import PbiService\n",
    "import services.data_service as ds\n",
    "from utilities.data_utils import convert_dataframe_to_dict, get_table_columns\n",
    "import pandas as pd\n",
    "\n",
    "config = yaml.load(open(\"config.yml\"), Loader=yaml.Loader)\n",
    "\n",
    "logging.config.dictConfig(config['logging_config'])\n",
    "logger = logging.getLogger('main')\n",
    "\n",
    "load_dotenv()\n",
    "\n",
    "logger.info('Initiating data refresh process')\n",
    "\n",
    "tables_to_push = []\n",
    "\n",
    "try: \n",
    "    logger.info('Fetching and processing case data from Salesforce')\n",
    "    df_case_data = ds.get_case_data()\n",
    "    df_case_data = df_case_data\n",
    "    df_case_data = df_case_data[get_table_columns('case_data')]\n",
    "    # case_data = convert_dataframe_to_dict(df_case_data)\n",
    "    tables_to_push.append({'name': 'case_data', 'df': df_case_data})\n",
    "except: \n",
    "    logger.exception('Something went wrong with fetching/processing case data')\n",
    "\n",
    "try: \n",
    "    logger.info('Fetching and processing account temperament data from Salesforce')\n",
    "    df_acct_temperaments = ds.get_account_temperaments(case_data=df_case_data)\n",
    "    df_acct_temperaments = df_acct_temperaments[get_table_columns('account_temperaments')]\n",
    "    # acct_temperaments = convert_dataframe_to_dict(df_acct_temperaments)\n",
    "    tables_to_push.append({'name': 'account_temperaments', 'df': df_acct_temperaments})\n",
    "except: \n",
    "    logger.exception('Something went wrong with fetching/processing account temperament data')\n",
    "\n",
    "try: \n",
    "    logger.info('Fetching and processing survey data from Salesforce')\n",
    "    df_survey_data = ds.get_survey_data()\n",
    "    df_survey_data = df_survey_data[get_table_columns('survey_data')]\n",
    "    # survey_data = convert_dataframe_to_dict(df_survey_data)\n",
    "    tables_to_push.append({'name': 'survey_data', 'df': df_survey_data})\n",
    "except: \n",
    "    logger.exception('Something went wrong with fetching/processing survey data')\n",
    "\n",
    "try: \n",
    "    logger.info('Fetching birthday data')\n",
    "    df_birthdays = ds.get_birthdays()\n",
    "    df_birthdays = df_birthdays[get_table_columns('birthdays')]\n",
    "    # birthdays = convert_dataframe_to_dict(df_birthdays)\n",
    "    tables_to_push.append({'name': 'birthdays', 'df': df_birthdays})\n",
    "except: \n",
    "    logger.exception('Something went wrong with fetching birthday data')\n",
    "\n",
    "try: \n",
    "    logger.info('Fetching datetime data')\n",
    "    df_date_time = ds.get_time_as_dataframe()\n",
    "    df_date_time = df_date_time[get_table_columns('date_time')]\n",
    "    # date_time = convert_dataframe_to_dict(df_date_time)\n",
    "    tables_to_push.append({'name': 'date_time', 'df': df_date_time})\n",
    "except: \n",
    "    logger.exception('Something went wrong with fetching datetime data')\n",
    "\n",
    "try:\n",
    "    logger.info('Posting table data to Excel')\n",
    "    path = os.environ['DATA_FILE']\n",
    "    with pd.ExcelWriter(path, engine='xlsxwriter') as writer:  \n",
    "        workbook = writer.book\n",
    "\n",
    "        for table in tables_to_push:\n",
    "            (name, df) = table.values()\n",
    "            df.to_excel(writer, sheet_name=name + '_s', index=False)\n",
    "\n",
    "            worksheet = writer.sheets[name + '_s']\n",
    "\n",
    "            # Get the dimensions of the dataframe.\n",
    "            (max_row, max_col) = df.shape\n",
    "\n",
    "            # Create a list of column headers, to use in add_table().\n",
    "            column_settings = []\n",
    "            for header in df.columns:\n",
    "                column_settings.append({'header': header})\n",
    "\n",
    "            # Add the table.\n",
    "            worksheet.add_table(0, 0, max_row, max_col - 1, {'columns': column_settings, 'name': name})\n",
    "        # writer.save()\n",
    "except: \n",
    "    logger.exception('Something went wrong with posting table data to Excel')\n",
    "\n"
   ]
  }
 ],
 "metadata": {
  "kernelspec": {
   "display_name": "Python 3.10.0 64-bit",
   "language": "python",
   "name": "python3"
  },
  "language_info": {
   "codemirror_mode": {
    "name": "ipython",
    "version": 3
   },
   "file_extension": ".py",
   "mimetype": "text/x-python",
   "name": "python",
   "nbconvert_exporter": "python",
   "pygments_lexer": "ipython3",
   "version": "3.10.0"
  },
  "vscode": {
   "interpreter": {
    "hash": "369f2c481f4da34e4445cda3fffd2e751bd1c4d706f27375911949ba6bb62e1c"
   }
  }
 },
 "nbformat": 4,
 "nbformat_minor": 5
}
