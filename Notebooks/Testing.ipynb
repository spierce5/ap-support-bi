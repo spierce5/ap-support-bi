{
 "cells": [
  {
   "cell_type": "code",
   "execution_count": 5,
   "metadata": {},
   "outputs": [],
   "source": [
    "from services.pbiservice import PbiService\n",
    "import os\n",
    "from dotenv import load_dotenv\n",
    "import json\n",
    "from tinydb import TinyDB, Query\n",
    "\n",
    "\n",
    "load_dotenv()\n",
    "group_id = os.environ['GROUP_ID']\n",
    "db = TinyDB('app_data.json')\n",
    "dataset_table = db.table('dataset')\n",
    "\n",
    "local_datasets = dataset_table.all()\n",
    "dataset_is_configured = False\n",
    "\n",
    "if len(local_datasets) > 0:\n",
    "    pbi_dataset = PbiService().get_dataset_in_group_by_id(group_id, local_datasets[0])\n",
    "    if pbi_dataset is None:\n",
    "        dataset_table.truncate()\n",
    "    else:\n",
    "        dataset_is_configured = True\n",
    "        dataset_id = local_datasets[0]['id']\n",
    "\n",
    "if not dataset_is_configured:\n",
    "    with open('dataset.json') as f:\n",
    "        ds = json.load(f)\n",
    "        res = PbiService().post_push_dataset_to_group(group_id, ds)\n",
    "        dataset_table.insert(res.json())\n",
    "        dataset_id = res.json()['id']\n",
    "        \n",
    "\n",
    "\n",
    "\n",
    "\n",
    "\n",
    "\n",
    "\n",
    "\n",
    "\n"
   ]
  },
  {
   "cell_type": "code",
   "execution_count": 8,
   "metadata": {},
   "outputs": [],
   "source": [
    "dataset_table.truncate()"
   ]
  },
  {
   "cell_type": "code",
   "execution_count": 33,
   "metadata": {},
   "outputs": [],
   "source": [
    "import json\n",
    "with open('dataset.json') as f:\n",
    "    ds = json.load(f)\n",
    "\n",
    "res = PbiService().post_push_dataset_to_group(group_id, ds)"
   ]
  },
  {
   "cell_type": "code",
   "execution_count": 1,
   "metadata": {},
   "outputs": [],
   "source": [
    "import services.data_service as ds\n",
    "df = ds.get_account_temperaments()"
   ]
  },
  {
   "cell_type": "code",
   "execution_count": 2,
   "metadata": {},
   "outputs": [
    {
     "data": {
      "text/plain": [
       "dtype('int64')"
      ]
     },
     "execution_count": 2,
     "metadata": {},
     "output_type": "execute_result"
    }
   ],
   "source": [
    "df['Open'].dtype"
   ]
  },
  {
   "cell_type": "code",
   "execution_count": 4,
   "metadata": {},
   "outputs": [
    {
     "data": {
      "text/plain": [
       "True"
      ]
     },
     "execution_count": 4,
     "metadata": {},
     "output_type": "execute_result"
    }
   ],
   "source": [
    "from utilities.data_utils import convert_dataframe_to_dict\n",
    "convert_dataframe_to_dict(df)[0].get('Is Support Member')"
   ]
  },
  {
   "cell_type": "markdown",
   "metadata": {},
   "source": [
    "# Main"
   ]
  },
  {
   "cell_type": "code",
   "execution_count": 8,
   "metadata": {},
   "outputs": [
    {
     "name": "stdout",
     "output_type": "stream",
     "text": [
      "12-28-2023 00:07:38 - INFO - Initiating data refresh process\n",
      "12-28-2023 00:07:38 - INFO - Fetching and processing case data from Salesforce\n"
     ]
    },
    {
     "name": "stdout",
     "output_type": "stream",
     "text": [
      "12-28-2023 00:07:49 - INFO - Fetching and processing account temperament data from Salesforce\n",
      "12-28-2023 00:07:50 - INFO - Fetching and processing survey data from Salesforce\n",
      "12-28-2023 00:07:52 - INFO - Fetching birthday data\n",
      "12-28-2023 00:07:52 - INFO - Fetching datetime data\n",
      "12-28-2023 00:07:52 - INFO - Posting table data to Power BI push dataset\n",
      "Error while pushing data to datasetL\n",
      "Not Found:\t{\"error\":{\"code\":\"ItemNotFound\",\"message\":\"Dataset <pi>7e93764f-77dc-47a5-936b-f9f9b4d8cd72</pi> is not found.\"}}\n",
      "RequestId:\tb8ecdf88-d6ce-42e8-b228-c68f60ecc9f2\n",
      "404 Client Error: Not Found for url: https://api.powerbi.com/v1.0/myorg/groups/6c2b4701-34e6-48d9-af12-d3528cda93d1/datasets/7e93764f-77dc-47a5-936b-f9f9b4d8cd72/tables/case_data/rows\n",
      "Error while pushing data to datasetL\n",
      "Not Found:\t{\"error\":{\"code\":\"ItemNotFound\",\"message\":\"Dataset <pi>7e93764f-77dc-47a5-936b-f9f9b4d8cd72</pi> is not found.\"}}\n",
      "RequestId:\t020bde1a-b5fb-4053-851c-2f8dd670c4a6\n",
      "404 Client Error: Not Found for url: https://api.powerbi.com/v1.0/myorg/groups/6c2b4701-34e6-48d9-af12-d3528cda93d1/datasets/7e93764f-77dc-47a5-936b-f9f9b4d8cd72/tables/account_temperaments/rows\n",
      "Error while pushing data to datasetL\n",
      "Not Found:\t{\"error\":{\"code\":\"ItemNotFound\",\"message\":\"Dataset <pi>7e93764f-77dc-47a5-936b-f9f9b4d8cd72</pi> is not found.\"}}\n",
      "RequestId:\t644499a5-371f-4fc0-9672-4e178fe70a05\n",
      "404 Client Error: Not Found for url: https://api.powerbi.com/v1.0/myorg/groups/6c2b4701-34e6-48d9-af12-d3528cda93d1/datasets/7e93764f-77dc-47a5-936b-f9f9b4d8cd72/tables/survey_data/rows\n",
      "Error while pushing data to datasetL\n",
      "Not Found:\t{\"error\":{\"code\":\"ItemNotFound\",\"message\":\"Dataset <pi>7e93764f-77dc-47a5-936b-f9f9b4d8cd72</pi> is not found.\"}}\n",
      "RequestId:\t5bb10dfe-f251-4fed-a160-5945e8918a01\n",
      "404 Client Error: Not Found for url: https://api.powerbi.com/v1.0/myorg/groups/6c2b4701-34e6-48d9-af12-d3528cda93d1/datasets/7e93764f-77dc-47a5-936b-f9f9b4d8cd72/tables/birthdays/rows\n",
      "Error while pushing data to datasetL\n",
      "Not Found:\t{\"error\":{\"code\":\"ItemNotFound\",\"message\":\"Dataset <pi>7e93764f-77dc-47a5-936b-f9f9b4d8cd72</pi> is not found.\"}}\n",
      "RequestId:\teed53990-0434-4ec8-be2d-76634c4cd32a\n",
      "404 Client Error: Not Found for url: https://api.powerbi.com/v1.0/myorg/groups/6c2b4701-34e6-48d9-af12-d3528cda93d1/datasets/7e93764f-77dc-47a5-936b-f9f9b4d8cd72/tables/date_time/rows\n"
     ]
    }
   ],
   "source": [
    "from tinydb import TinyDB, Query\n",
    "import json\n",
    "import os\n",
    "from dotenv import load_dotenv\n",
    "import logging\n",
    "import logging.config\n",
    "import yaml\n",
    "from services.pbiservice import PbiService\n",
    "import services.data_service as ds\n",
    "from utilities.data_utils import convert_dataframe_to_dict, get_table_columns\n",
    "\n",
    "config = yaml.load(open(\"config.yml\"), Loader=yaml.Loader)\n",
    "\n",
    "logging.config.dictConfig(config['logging_config'])\n",
    "logger = logging.getLogger('main')\n",
    "\n",
    "load_dotenv()\n",
    "group_id = os.environ['GROUP_ID']\n",
    "db = TinyDB('app_data.json')\n",
    "dataset_table = db.table('dataset')\n",
    "local_datasets = dataset_table.all()\n",
    "q = Query()\n",
    "\n",
    "logger.info('Initiating data refresh process')\n",
    "\n",
    "tables_to_push = []\n",
    "\n",
    "\n",
    "\n",
    "dataset_is_configured = False\n",
    "\n",
    "if len(local_datasets) > 0:\n",
    "    pbi_dataset = PbiService().get_dataset_in_group_by_id(group_id, local_datasets[0])\n",
    "    if pbi_dataset is None:\n",
    "        dataset_table.truncate()\n",
    "    else:\n",
    "        dataset_is_configured = True\n",
    "        dataset_id = local_datasets[0]['id']\n",
    "\n",
    "if not dataset_is_configured:\n",
    "    with open('dataset.json') as f:\n",
    "        ds = json.load(f)\n",
    "        res = PbiService().post_push_dataset_to_group(group_id, ds)\n",
    "        dataset_table.insert(res.json())\n",
    "        dataset_id = res.json()['id']\n",
    "\n",
    "try: \n",
    "    logger.info('Fetching and processing case data from Salesforce')\n",
    "    df_case_data = ds.get_case_data()\n",
    "    df_case_data = df_case_data.head(5)\n",
    "    df_case_data = df_case_data[get_table_columns('case_data')]\n",
    "    case_data = convert_dataframe_to_dict(df_case_data)\n",
    "    tables_to_push.append({'name': 'case_data', 'data': case_data})\n",
    "except: \n",
    "    logger.exception('Something went wrong with fetching/processing case data')\n",
    "\n",
    "try: \n",
    "    logger.info('Fetching and processing account temperament data from Salesforce')\n",
    "    df_acct_temperaments = ds.get_account_temperaments(case_data=df_case_data)\n",
    "    df_acct_temperaments = df_acct_temperaments[get_table_columns('account_temperaments')]\n",
    "    acct_temperaments = convert_dataframe_to_dict(df_acct_temperaments)\n",
    "    tables_to_push.append({'name': 'account_temperaments', 'data': acct_temperaments})\n",
    "except: \n",
    "    logger.exception('Something went wrong with fetching/processing account temperament data')\n",
    "\n",
    "try: \n",
    "    logger.info('Fetching and processing survey data from Salesforce')\n",
    "    df_survey_data = ds.get_survey_data()\n",
    "    df_survey_data = df_survey_data[get_table_columns('survey_data')]\n",
    "    survey_data = convert_dataframe_to_dict(df_survey_data)\n",
    "    tables_to_push.append({'name': 'survey_data', 'data': survey_data})\n",
    "except: \n",
    "    logger.exception('Something went wrong with fetching/processing survey data')\n",
    "\n",
    "try: \n",
    "    logger.info('Fetching birthday data')\n",
    "    df_birthdays = ds.get_birthdays()\n",
    "    df_birthdays = df_birthdays[get_table_columns('birthdays')]\n",
    "    birthdays = convert_dataframe_to_dict(df_birthdays)\n",
    "    tables_to_push.append({'name': 'birthdays', 'data': birthdays})\n",
    "except: \n",
    "    logger.exception('Something went wrong with fetching birthday data')\n",
    "\n",
    "try: \n",
    "    logger.info('Fetching datetime data')\n",
    "    df_date_time = ds.get_time_as_dataframe()\n",
    "    df_date_time = df_date_time[get_table_columns('date_time')]\n",
    "    date_time = convert_dataframe_to_dict(df_date_time)\n",
    "    tables_to_push.append({'name': 'date_time', 'data': date_time})\n",
    "except: \n",
    "    logger.exception('Something went wrong with fetching datetime data')\n",
    "\n",
    "try:\n",
    "    logger.info('Posting table data to Power BI push dataset')\n",
    "    pbiService = PbiService()\n",
    "    for table in tables_to_push:\n",
    "        pbiService.post_data_to_push_dataset_table(group_id, dataset_id, table.get('name'), table.get('data'))\n",
    "except: \n",
    "    logger.exception('Something went wrong with posting table data to Power BI push dataset')\n",
    "\n"
   ]
  }
 ],
 "metadata": {
  "kernelspec": {
   "display_name": "Python 3.10.0 64-bit",
   "language": "python",
   "name": "python3"
  },
  "language_info": {
   "codemirror_mode": {
    "name": "ipython",
    "version": 3
   },
   "file_extension": ".py",
   "mimetype": "text/x-python",
   "name": "python",
   "nbconvert_exporter": "python",
   "pygments_lexer": "ipython3",
   "version": "3.10.0"
  },
  "vscode": {
   "interpreter": {
    "hash": "369f2c481f4da34e4445cda3fffd2e751bd1c4d706f27375911949ba6bb62e1c"
   }
  }
 },
 "nbformat": 4,
 "nbformat_minor": 5
}
